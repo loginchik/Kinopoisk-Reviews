{
 "cells": [
  {
   "metadata": {},
   "cell_type": "markdown",
   "source": "# Kinopoisk Reviews Parser",
   "id": "7be42a1f15922810"
  },
  {
   "metadata": {},
   "cell_type": "code",
   "source": [
    "import os\n",
    "import re\n",
    "from datetime import datetime as dt \n",
    "import pandas as pd \n",
    "from tqdm.notebook import tqdm\n",
    "\n",
    "from kinopoisk_reviews_scrapper import KinopoiskReviewsScrapper"
   ],
   "id": "53079bac37c6af65",
   "outputs": [],
   "execution_count": null
  },
  {
   "metadata": {},
   "cell_type": "markdown",
   "source": "## Сбор временных файлов // Parsing temp files ",
   "id": "5db2976bc55b3951"
  },
  {
   "metadata": {},
   "cell_type": "markdown",
   "source": "Задаём список ссылок на фильмы. Ссылки должны вести на стартовую страницу фильма // Set a list of film links. Links should lead to the firm start page",
   "id": "b001f70c2f601c29"
  },
  {
   "metadata": {},
   "cell_type": "code",
   "source": "urls = []",
   "id": "469c80a047fd4718",
   "outputs": [],
   "execution_count": null
  },
  {
   "metadata": {},
   "cell_type": "markdown",
   "source": "Запускаем парсинг // Start parsing ",
   "id": "cfc7ff5be4da36da"
  },
  {
   "metadata": {},
   "cell_type": "code",
   "source": [
    "urls_bar = tqdm(total=len(urls), desc='URLs progress', unit='url')\n",
    "pages_bar = tqdm(unit='page')\n",
    "reviews_bar = tqdm(unit='review')"
   ],
   "id": "1382372b2efaf86",
   "outputs": [],
   "execution_count": null
  },
  {
   "metadata": {},
   "cell_type": "code",
   "source": [
    "parser = KinopoiskReviewsScrapper()\n",
    "bad_urls = parser.collect_urls(urls, urls_bar, pages_bar, reviews_bar)"
   ],
   "id": "df410d1d4361e05a",
   "outputs": [],
   "execution_count": null
  },
  {
   "metadata": {},
   "cell_type": "markdown",
   "source": "## Объединение временных файлов // Join temp files ",
   "id": "72a021ab33ff9629"
  },
  {
   "metadata": {},
   "cell_type": "markdown",
   "source": "Собираем список временных папок, связанных с текущим парсингом // Gather list of temp folders related to current parsing ",
   "id": "a589d4eef8721826"
  },
  {
   "metadata": {},
   "cell_type": "code",
   "source": [
    "movie_ids = tuple(map(lambda x: re.search('film/(\\d+)', x).group(1), urls))\n",
    "temp_folders = [p for p in os.listdir() if os.path.isdir(p) and any(map(lambda x: p.startswith(x), movie_ids))]"
   ],
   "id": "adbd7e34b031f6ca",
   "outputs": [],
   "execution_count": null
  },
  {
   "metadata": {},
   "cell_type": "markdown",
   "source": "Открываем файлы во временных папках // Open files in temp folders ",
   "id": "110bc9083281cfe1"
  },
  {
   "metadata": {},
   "cell_type": "code",
   "source": [
    "folder_datas = list()\n",
    "for folder in temp_folders:\n",
    "    files_in_folder = tuple(map(lambda x: os.path.join(folder, x), os.listdir(folder)))\n",
    "    dataframes = [pd.read_json(file, orient='records') for file in files_in_folder]\n",
    "    if len(dataframes) > 0: \n",
    "        folder_data = pd.concat(dataframes)\n",
    "        folder_datas.append(folder_data)"
   ],
   "id": "f92322d43f4aba0d",
   "outputs": [],
   "execution_count": null
  },
  {
   "metadata": {},
   "cell_type": "markdown",
   "source": "Собираем временные данные в один файл и сохраняем его // Gather temp data into one file and save it ",
   "id": "e663e7b06d49a7d7"
  },
  {
   "metadata": {},
   "cell_type": "code",
   "source": [
    "total_data = pd.json_normalize(pd.concat(folder_datas)['data'])\n",
    "total_data = total_data.drop_duplicates(subset='comment_id')\n",
    "print('Total reviews count in file:', total_data.shape[0])\n",
    "\n",
    "today_date = dt.today().strftime('%y%m%d')\n",
    "total_filename = f'kinopoisk_db_{today_date}.csv'\n",
    "if os.path.exists(total_filename):\n",
    "    copies_count = len([file for file in os.listdir() if total_filename.split('.')[0] in file])\n",
    "    total_filename = total_filename.replace('.csv', f'_{copies_count}.csv')\n",
    "total_data.to_csv(total_filename, index=False)\n",
    "print('Saved to:', total_filename)"
   ],
   "id": "245b0eb4ddd586fe",
   "outputs": [],
   "execution_count": null
  }
 ],
 "metadata": {
  "kernelspec": {
   "display_name": "Python 3",
   "language": "python",
   "name": "python3"
  },
  "language_info": {
   "codemirror_mode": {
    "name": "ipython",
    "version": 2
   },
   "file_extension": ".py",
   "mimetype": "text/x-python",
   "name": "python",
   "nbconvert_exporter": "python",
   "pygments_lexer": "ipython2",
   "version": "2.7.6"
  }
 },
 "nbformat": 4,
 "nbformat_minor": 5
}
